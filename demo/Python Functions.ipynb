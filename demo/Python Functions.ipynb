{
 "cells": [
  {
   "cell_type": "markdown",
   "metadata": {},
   "source": [
    "## Some useful python functions\n",
    "Let's get familiar with some function or in-built feartures that can be helpful while developing in python.\n"
   ]
  },
  {
   "cell_type": "markdown",
   "metadata": {},
   "source": [
    "### dir()\n",
    "From Python documentation:\n",
    "\n",
    ">Without arguments, return the list of names in the current local scope. With an argument, attempt to return a list of valid attributes for that object.\n",
    ">\n",
    ">If the object has a method named __dir__(), this method will be called and must return the list of attributes.\n",
    "This allows objects that implement a custom __getattr__() or __getattribute__() function to customize the way dir() reports their >attributes.\n",
    ">\n",
    ">If the object does not provide __dir__(), the function tries its best to gather information from the object’s __dict__ attribute, if defined, and from its type object. The resulting list is not necessarily complete, and may be inaccurate when the object has a custom __getattr__().\n",
    ">\n",
    ">The default dir() mechanism behaves differently with different types of objects, as it attempts to produce the most relevant, rather than complete, information:\n",
    ">\n",
    ">If the object is a module object, the list contains the names of the module’s attributes.\n",
    ">\n",
    ">If the object is a type or class object, the list contains the names of its attributes, and recursively of the attributes of its bases.\n",
    ">\n",
    ">Otherwise, the list contains the object’s attributes’ names, the names of its class’s attributes, and recursively of the attributes of its class’s base classes.\n",
    ">\n",
    ">The resulting list is sorted alphabetically. \n",
    "\n",
    "For example:"
   ]
  },
  {
   "cell_type": "markdown",
   "metadata": {},
   "source": [
    "```\n",
    "class Animal:\n",
    "\n",
    "    def __init__(self, name, color, category):\n",
    "        self.name = name\n",
    "        self.color = color\n",
    "        self.category = category\n",
    "        \n",
    "    def show_name(self):\n",
    "        print(self.name)\n",
    "        \n",
    "    def __dir__(self):\n",
    "        return ['name', 'color', 'category', 'show_name']\n",
    "    \n",
    "    \n",
    "animal = Animal(\"Lion\", \"Brown\", \"Carnivore\")\n",
    "dir(animal)\n",
    "```"
   ]
  },
  {
   "cell_type": "markdown",
   "metadata": {},
   "source": [
    "### getattr() and setattr()\n",
    ">**getattr(object, name[, default])**\n",
    ">\n",
    ">Return the value of the named attribute of object. name must be a string. If the string is the name of one of >the object’s attributes, the result is the value of that attribute. "
   ]
  },
  {
   "cell_type": "code",
   "execution_count": null,
   "metadata": {},
   "outputs": [],
   "source": [
    "getattr(animal, 'name')"
   ]
  },
  {
   "cell_type": "code",
   "execution_count": null,
   "metadata": {},
   "outputs": [],
   "source": [
    "setattr(animal, 'name', 'Tiger')\n",
    "getattr(animal, 'name')"
   ]
  },
  {
   "cell_type": "code",
   "execution_count": null,
   "metadata": {},
   "outputs": [],
   "source": [
    "delattr(animal, 'color')\n",
    "animal.color"
   ]
  },
  {
   "cell_type": "markdown",
   "metadata": {},
   "source": [
    "### divmod()\n",
    "From Python documentation:\n",
    ">Take two (non complex) numbers as arguments and return a pair of numbers consisting of their quotient and >remainder when using integer division. With mixed operand types, the rules for binary arithmetic operators >apply. For integers, the result is the same as (a // b, a % b). For floating point numbers the result is (q, a >% b), where q is usually math.floor(a / b) but may be 1 less than that. In any case q * b + a % b is very >close to a, if a % b is non-zero it has the same sign as b, and 0 <= abs(a % b) < abs(b)."
   ]
  },
  {
   "cell_type": "code",
   "execution_count": null,
   "metadata": {},
   "outputs": [],
   "source": [
    "a = 15.25\n",
    "b = 20.45\n",
    "divmod(a, b)"
   ]
  },
  {
   "cell_type": "markdown",
   "metadata": {},
   "source": [
    "### enumerate()\n",
    "Return an enumerate object. iterable must be a sequence, an iterator, or some other object which supports iteration. "
   ]
  },
  {
   "cell_type": "code",
   "execution_count": null,
   "metadata": {},
   "outputs": [],
   "source": [
    "seasons = ['Spring', 'Summer', 'Fall', 'Winter']\n",
    "list(enumerate(seasons))"
   ]
  },
  {
   "cell_type": "code",
   "execution_count": null,
   "metadata": {},
   "outputs": [],
   "source": [
    "def enumerate(sequence, start=0):\n",
    "    n = start\n",
    "    for elem in sequence:\n",
    "        yield n, elem\n",
    "        n += 1"
   ]
  },
  {
   "cell_type": "markdown",
   "metadata": {},
   "source": [
    "### eval()\n",
    "From Python documentation:\n",
    ">**eval(expression, globals=None, locals=None)**\n",
    ">\n",
    ">The arguments are a string and optional globals and locals. If provided, globals must be a dictionary. If >provided, locals can be any mapping object."
   ]
  },
  {
   "cell_type": "code",
   "execution_count": null,
   "metadata": {},
   "outputs": [],
   "source": [
    "eval('2+3')"
   ]
  },
  {
   "cell_type": "code",
   "execution_count": null,
   "metadata": {},
   "outputs": [],
   "source": [
    "data = dict(a=5, b=8)\n",
    "eval('a+b', data)"
   ]
  },
  {
   "cell_type": "markdown",
   "metadata": {},
   "source": [
    "### gloabals() and locals()\n",
    "From documentation:\n",
    "> **globals()**\n",
    ">\n",
    ">Return a dictionary representing the current global symbol table. This is always the dictionary of the current >module (inside a function or method, this is the module where it is defined, not the module from which it is >called).\n",
    ">\n",
    "> **locals()**\n",
    ">\n",
    "> Update and return a dictionary representing the current local symbol table. Free variables are returned by >locals() when it is called in function blocks, but not in class blocks."
   ]
  },
  {
   "cell_type": "code",
   "execution_count": null,
   "metadata": {},
   "outputs": [],
   "source": [
    "globals()"
   ]
  },
  {
   "cell_type": "code",
   "execution_count": null,
   "metadata": {},
   "outputs": [],
   "source": [
    "locals()"
   ]
  },
  {
   "cell_type": "markdown",
   "metadata": {},
   "source": [
    "### help()"
   ]
  },
  {
   "cell_type": "code",
   "execution_count": null,
   "metadata": {},
   "outputs": [],
   "source": [
    "help(list.count)"
   ]
  },
  {
   "cell_type": "code",
   "execution_count": null,
   "metadata": {},
   "outputs": [],
   "source": [
    "help(Animal)"
   ]
  },
  {
   "cell_type": "code",
   "execution_count": null,
   "metadata": {},
   "outputs": [],
   "source": [
    "import pandas as pd\n",
    "help(pd)"
   ]
  },
  {
   "cell_type": "code",
   "execution_count": null,
   "metadata": {},
   "outputs": [],
   "source": [
    "list.count?"
   ]
  },
  {
   "cell_type": "markdown",
   "metadata": {},
   "source": [
    "### isinstance()\n",
    "> **isinstance(object, classinfo)**\n",
    ">\n",
    ">Return true if the object argument is an instance of the classinfo argument, or of a (direct, indirect or virtual) subclass thereof. If object is not an object of the given type, the function always returns false. If classinfo is a tuple of type objects (or recursively, other such tuples), return true if object is an instance of any of the types. If classinfo is not a type or tuple of types and such tuples, a TypeError exception is raised."
   ]
  },
  {
   "cell_type": "code",
   "execution_count": null,
   "metadata": {},
   "outputs": [],
   "source": [
    "isinstance(animal, Animal)"
   ]
  },
  {
   "cell_type": "markdown",
   "metadata": {},
   "source": [
    "### issubclass()\n",
    "> **issubclass(class, classinfo)**\n",
    ">\n",
    ">Return true if class is a subclass (direct, indirect or virtual) of classinfo. A class is considered a subclass of itself. classinfo may be a tuple of class objects, in which case every entry in classinfo will be checked. In any other case, a TypeError exception is raised."
   ]
  },
  {
   "cell_type": "code",
   "execution_count": null,
   "metadata": {},
   "outputs": [],
   "source": [
    "issubclass(Animal, object)"
   ]
  },
  {
   "cell_type": "markdown",
   "metadata": {},
   "source": [
    "#### iter()"
   ]
  },
  {
   "cell_type": "code",
   "execution_count": null,
   "metadata": {},
   "outputs": [],
   "source": [
    "z = [5, 4, 8, 2]\n",
    "it = iter(z)"
   ]
  },
  {
   "cell_type": "code",
   "execution_count": null,
   "metadata": {},
   "outputs": [],
   "source": [
    "next(it)"
   ]
  },
  {
   "cell_type": "markdown",
   "metadata": {},
   "source": [
    "#### max() , min(),  pow(), round() and sum()"
   ]
  },
  {
   "cell_type": "code",
   "execution_count": null,
   "metadata": {},
   "outputs": [],
   "source": [
    "max(z)"
   ]
  },
  {
   "cell_type": "code",
   "execution_count": null,
   "metadata": {},
   "outputs": [],
   "source": [
    "min(z)"
   ]
  },
  {
   "cell_type": "code",
   "execution_count": null,
   "metadata": {},
   "outputs": [],
   "source": [
    "pow(2,10)"
   ]
  },
  {
   "cell_type": "code",
   "execution_count": null,
   "metadata": {},
   "outputs": [],
   "source": [
    "round(123.8578, 2)"
   ]
  },
  {
   "cell_type": "code",
   "execution_count": null,
   "metadata": {},
   "outputs": [],
   "source": [
    "sum(z)"
   ]
  },
  {
   "cell_type": "code",
   "execution_count": null,
   "metadata": {},
   "outputs": [],
   "source": [
    "set(z)"
   ]
  },
  {
   "cell_type": "markdown",
   "metadata": {},
   "source": [
    "#### repr()"
   ]
  },
  {
   "cell_type": "code",
   "execution_count": null,
   "metadata": {},
   "outputs": [],
   "source": [
    "repr(z)"
   ]
  },
  {
   "cell_type": "markdown",
   "metadata": {},
   "source": [
    "#### zip()"
   ]
  },
  {
   "cell_type": "code",
   "execution_count": null,
   "metadata": {},
   "outputs": [],
   "source": [
    "a = 'ABCD'\n",
    "b = [1, 2, 3, 4, 5]\n",
    "list(zip(a,b))"
   ]
  },
  {
   "cell_type": "markdown",
   "metadata": {},
   "source": [
    "### String Formatting\n"
   ]
  },
  {
   "cell_type": "code",
   "execution_count": null,
   "metadata": {},
   "outputs": [],
   "source": [
    "a = 15\n",
    "b = 85\n",
    "\"Value of a is %d\" % a"
   ]
  },
  {
   "cell_type": "code",
   "execution_count": null,
   "metadata": {},
   "outputs": [],
   "source": [
    "'Value of b is {0}'.format(b)"
   ]
  },
  {
   "cell_type": "code",
   "execution_count": null,
   "metadata": {},
   "outputs": [],
   "source": [
    "'Value of a and b is {a} and {b} respectively'.format(a=a, b=b)"
   ]
  },
  {
   "cell_type": "code",
   "execution_count": null,
   "metadata": {},
   "outputs": [],
   "source": [
    "f'Value of a is {a} and b is {b}'"
   ]
  },
  {
   "cell_type": "markdown",
   "metadata": {},
   "source": [
    "## lambda, map & filter\n",
    "\n",
    "### lambda\n",
    "lambda operator or lambda function is used for creating small, one-time and anonymous function objects in Python.\n",
    "\n",
    "Basic syntax\n",
    "\n",
    ">`lambda arguments : expression`\n",
    "\n",
    "lambda operator can have any number of arguments, but it can have only one expression. It cannot contain any statements and it returns a function object which can be assigned to any variable.\n",
    "\n",
    "Function in python\n",
    "\n",
    "```\n",
    "def add(x, y): \n",
    "    return x + y\n",
    "  \n",
    "# Call the function\n",
    "add(2, 3) # Output: 5\n",
    "```\n",
    "Above is same as \n",
    "\n",
    "```\n",
    "add = lambda x, y : x + y \n",
    "\n",
    "print add(2, 3) # Output: 5\n",
    "```\n",
    "\n",
    "### map\n",
    "Basic syntax\n",
    "\n",
    ">`map(function_object, iterable1, iterable2,...)`\n",
    "\n",
    "map functions expects a function object and any number of iterables like list, dictionary, etc. It executes the function_object for each element in the sequence and returns a list of the elements modified by the function object.\n",
    "Example:\n",
    "```\n",
    "def multiply2(x):\n",
    "  return x * 2\n",
    "    \n",
    "map(multiply2, [1, 2, 3, 4]) # Output [2, 4, 6, 8]\n",
    "```\n",
    "\n",
    "Same example but using lambda\n",
    "\n",
    "```\n",
    "map(lambda x : x*2, [1, 2, 3, 4]) #Output [2, 4, 6, 8]\n",
    "```\n",
    "\n",
    "A few examples\n",
    "\n",
    "```\n",
    "dict_a = [{'name': 'python', 'points': 10}, {'name': 'java', 'points': 8}]\n",
    "  \n",
    "map(lambda x : x['name'], dict_a) # Output: ['python', 'java']\n",
    "  \n",
    "map(lambda x : x['points']*10,  dict_a) # Output: [100, 80]\n",
    "\n",
    "map(lambda x : x['name'] == \"python\", dict_a) # Output: [True, False]\n",
    "```\n",
    "\n",
    "### filter\n",
    "Basic syntax\n",
    "\n",
    ">`filter(function_object, iterable)`\n",
    "\n",
    "filter function expects two arguments, function_object and an iterable. function_object returns a boolean value. function_object is called for each element of the iterable and filter returns only those element for which the function_object returns true.\n",
    "\n",
    "Like map function, filter function also returns a list of element. Unlike map function filter function can only have one iterable as input.\n",
    "\n",
    "Example:\n",
    "\n",
    "Even number using filter function\n",
    "\n",
    "```\n",
    "a = [1, 2, 3, 4, 5, 6]\n",
    "filter(lambda x : x % 2 == 0, a) # Output: [2, 4, 6]\n",
    "```\n",
    "\n",
    "Filter list of dicts\n",
    "\n",
    "```\n",
    "dict_a = [{'name': 'python', 'points': 10}, {'name': 'java', 'points': 8}]\n",
    "\n",
    "filter(lambda x : x['name'] == 'python', dict_a) # Output: [{'name': 'python', 'points': 10}]\n",
    "```"
   ]
  },
  {
   "cell_type": "markdown",
   "metadata": {},
   "source": [
    "### Exception Handling\n",
    "Use of `try and except` and `finally` for the purpose of error handling. You can follow this [tutorial](https://docs.python.org/3/tutorial/errors.html).\n",
    "Read about different type of exceptions [here](https://docs.python.org/3/library/exceptions.html).\n",
    "\n",
    "How it works:\n",
    "```\n",
    "try:\n",
    "    some statements here\n",
    "except:\n",
    "    exception handling\n",
    "```\n",
    "\n",
    "The error handling is done through the use of exceptions that are caught in try\n",
    "blocks and handled in except blocks. If an error is encountered, a try block\n",
    "code execution is stopped and transferred down to the except block. \n",
    "\n",
    "In addition to using an except block after the try block, you can also use the\n",
    "finally block. \n",
    "\n",
    "The code in the finally block will be executed regardless of whether an exception\n",
    "occurs."
   ]
  },
  {
   "cell_type": "code",
   "execution_count": null,
   "metadata": {},
   "outputs": [],
   "source": [
    "try:\n",
    "    x = int(input(\"Enter a number: \"))\n",
    "except:\n",
    "    print('Error occurred')\n",
    "finally:\n",
    "    print('Bye')\n",
    "    exit(0)"
   ]
  },
  {
   "cell_type": "markdown",
   "metadata": {},
   "source": [
    "### Some in-built packages \n",
    "1. [datetime](https://docs.python.org/3/library/datetime.html)\n",
    "2. [timeit](https://docs.python.org/3/library/timeit.html)\n",
    "3. Data compression packages: \n",
    "    1. [tarfile](https://docs.python.org/3/library/tarfile.html)\n",
    "    2. [zipfile](https://docs.python.org/3/library/zipfile.html)\n",
    "    3. [gzip](https://docs.python.org/3/library/gzip.html)\n",
    "4. [os](https://docs.python.org/3/library/os.html)\n",
    "5. [os.path](https://docs.python.org/3/library/os.path.html)"
   ]
  },
  {
   "cell_type": "markdown",
   "metadata": {},
   "source": [
    "### Study Parallel execution\n",
    "1. [threading](https://docs.python.org/3/library/threading.html)\n",
    "2. [multiprocessing](https://docs.python.org/3/library/multiprocessing.html)\n",
    "3. [concurrent.futures](https://docs.python.org/3/library/concurrent.futures.html)"
   ]
  },
  {
   "cell_type": "code",
   "execution_count": null,
   "metadata": {},
   "outputs": [],
   "source": []
  }
 ],
 "metadata": {
  "kernelspec": {
   "display_name": "Python (MyProject)",
   "language": "python",
   "name": "myproject"
  },
  "language_info": {
   "codemirror_mode": {
    "name": "ipython",
    "version": 3
   },
   "file_extension": ".py",
   "mimetype": "text/x-python",
   "name": "python",
   "nbconvert_exporter": "python",
   "pygments_lexer": "ipython3",
   "version": "3.6.7"
  }
 },
 "nbformat": 4,
 "nbformat_minor": 2
}
