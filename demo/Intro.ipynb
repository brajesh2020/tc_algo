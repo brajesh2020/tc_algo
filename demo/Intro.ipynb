{
 "cells": [
  {
   "cell_type": "markdown",
   "metadata": {},
   "source": [
    "## Different IDEs available for Python programming\n",
    "Some of the popular IDE used for python are:\n",
    "1. Text Editor (Notepad, Notepad++ etc)\n",
    "2. Python IDLE\n",
    "3. Spyder\n",
    "4. Advanced Code Editors (VS code, Atom etc)\n",
    "5. Jupyter Notebook\n",
    "6. Dedicated IDE (such as PyCharm)"
   ]
  },
  {
   "cell_type": "markdown",
   "metadata": {},
   "source": [
    "### Python CLI interface\n",
    "You can run python code through command line and it is more fast than any other method.\n",
    "For instance create a file named `hello.py` run it using this command \n",
    ">`python hello.py`\n",
    "\n",
    "This will generate the output in the terminal.\n",
    "\n",
    "You can also pass input or values to the python script using the command line. This can be achieved with the help of a in-build python package [argparse](https://docs.python.org/3/library/argparse.html). You can learn more about `argparse` in this [tutorial](https://docs.python.org/3/howto/argparse.html)."
   ]
  },
  {
   "cell_type": "markdown",
   "metadata": {},
   "source": [
    "### Python IDLE \n",
    "Python IDLE comes along with the python installation and can be used in terminal, IDLE interface or in PyCharm itself."
   ]
  },
  {
   "cell_type": "markdown",
   "metadata": {},
   "source": [
    "### Spyder Notebook\n",
    "Spyder is a powerful scientific environment written in Python, for Python, and designed by and for scientists, engineers and data analysts. It offers a unique combination of the advanced editing, analysis, debugging, and profiling functionality of a comprehensive development tool with the data exploration, interactive execution, deep inspection, and beautiful visualization capabilities of a scientific package."
   ]
  },
  {
   "cell_type": "markdown",
   "metadata": {},
   "source": [
    "### Jupyter Notebook\n",
    "Well this is jupyter notebook and it is often used for data analysis. It is more popular among data scientists. It is directly integrated into the browser hence easy to use. "
   ]
  }
 ],
 "metadata": {
  "kernelspec": {
   "display_name": "Python (MyProject)",
   "language": "python",
   "name": "myproject"
  },
  "language_info": {
   "codemirror_mode": {
    "name": "ipython",
    "version": 3
   },
   "file_extension": ".py",
   "mimetype": "text/x-python",
   "name": "python",
   "nbconvert_exporter": "python",
   "pygments_lexer": "ipython3",
   "version": "3.6.7"
  }
 },
 "nbformat": 4,
 "nbformat_minor": 2
}
