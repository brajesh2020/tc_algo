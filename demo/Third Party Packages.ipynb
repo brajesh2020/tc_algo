{
 "cells": [
  {
   "cell_type": "markdown",
   "metadata": {},
   "source": [
    "### Contracts for REST API\n",
    "\n",
    "1. [NSECM](http://tradingcampus.in/tradeterminal/python-code/cm.gz)\n",
    "2. [NSEFO](http://tradingcampus.in/tradeterminal/python-code/fo.gz)"
   ]
  },
  {
   "cell_type": "markdown",
   "metadata": {},
   "source": [
    "### Package for downloading data from NSE\n",
    "[NSEpy](https://nsepy.readthedocs.io/en/latest/)\n",
    "\n",
    "Add these lines to `venv[Your ennviornment]>Lib>site-packages>nsepy>history.py`\n",
    "```\n",
    "dprice_list_url = URLFetchSession(url='https://www.nseindia.com/content/historical/DERIVATIVES/%s/%s/fo%sbhav.csv.zip')\n",
    "\n",
    "def get_derivative_price_list(dt,):\n",
    "    MMM = dt.strftime(\"%b\").upper()\n",
    "    yyyy = dt.strftime(\"%Y\")\n",
    "\n",
    "    \"\"\"\n",
    "    1. YYYY\n",
    "    2. MMM\n",
    "    3. ddMMMyyyy\n",
    "    \"\"\"\n",
    "    res = dprice_list_url(yyyy, MMM, dt.strftime(\"%d%b%Y\").upper() )\n",
    "    txt =  unzip_str(res.content)\n",
    "    fp = six.StringIO(txt)\n",
    "    df = pd.read_csv(fp)\n",
    "    del df['Unnamed: 15']\n",
    "    return df\n",
    "```"
   ]
  },
  {
   "cell_type": "code",
   "execution_count": null,
   "metadata": {},
   "outputs": [],
   "source": [
    "from datetime import date\n",
    "from nsepy.history import get_derivative_price_list\n",
    "prices = get_derivative_price_list(dt=date(2018,12,26),)\n",
    "prices"
   ]
  },
  {
   "cell_type": "markdown",
   "metadata": {},
   "source": [
    "### Packages meant for data analysis and visualization\n",
    "1. Numpy\n",
    "2. Pandas\n",
    "3. Matplotlib\n",
    "4. Plotly and Dash"
   ]
  },
  {
   "cell_type": "markdown",
   "metadata": {},
   "source": [
    "### Pandas \n",
    "We will see some examples related to Pandas's DataFrame object.\n",
    "An introductory [tutorial](http://pandas.pydata.org/pandas-docs/stable/10min.html) to pandas is good way to start. Check it out and get hands on it.\n",
    "\n",
    "Pandas [Data Structures](http://pandas.pydata.org/pandas-docs/stable/dsintro.html). \n",
    "One of the major data structure is [Dataframe](http://pandas.pydata.org/pandas-docs/stable/generated/pandas.DataFrame.html) and it is great to use.\n"
   ]
  },
  {
   "cell_type": "code",
   "execution_count": null,
   "metadata": {},
   "outputs": [],
   "source": [
    "prices.index"
   ]
  },
  {
   "cell_type": "code",
   "execution_count": null,
   "metadata": {},
   "outputs": [],
   "source": [
    "prices.columns"
   ]
  },
  {
   "cell_type": "code",
   "execution_count": null,
   "metadata": {},
   "outputs": [],
   "source": [
    "prices.describe()"
   ]
  },
  {
   "cell_type": "code",
   "execution_count": null,
   "metadata": {},
   "outputs": [],
   "source": [
    "prices.count()"
   ]
  },
  {
   "cell_type": "code",
   "execution_count": null,
   "metadata": {},
   "outputs": [],
   "source": [
    "prices.loc[5]"
   ]
  },
  {
   "cell_type": "code",
   "execution_count": null,
   "metadata": {},
   "outputs": [],
   "source": [
    "prices.iloc[5]"
   ]
  },
  {
   "cell_type": "markdown",
   "metadata": {},
   "source": [
    "[Dataframe.apply()](http://pandas.pydata.org/pandas-docs/stable/generated/pandas.DataFrame.apply.html#pandas.DataFrame.apply)"
   ]
  },
  {
   "cell_type": "code",
   "execution_count": null,
   "metadata": {},
   "outputs": [],
   "source": [
    "prices.mean(0)"
   ]
  },
  {
   "cell_type": "code",
   "execution_count": null,
   "metadata": {},
   "outputs": [],
   "source": [
    "prices['SMA50'] = prices['CLOSE'].rolling(window=50, center=False).mean()\n",
    "prices"
   ]
  },
  {
   "cell_type": "code",
   "execution_count": null,
   "metadata": {},
   "outputs": [],
   "source": [
    "prices.to_csv('csv_sample.csv')"
   ]
  },
  {
   "cell_type": "code",
   "execution_count": null,
   "metadata": {},
   "outputs": [],
   "source": [
    "df = prices.reindex(index=prices.index[::-1])"
   ]
  },
  {
   "cell_type": "code",
   "execution_count": null,
   "metadata": {},
   "outputs": [],
   "source": [
    "df"
   ]
  },
  {
   "cell_type": "code",
   "execution_count": null,
   "metadata": {},
   "outputs": [],
   "source": [
    "prices.to_excel('excel_sample.xlsx')"
   ]
  },
  {
   "cell_type": "markdown",
   "metadata": {},
   "source": [
    "## Jupyter Notebook in cloud\n",
    "\n",
    "You can also look up for jupyter notebook in cloud provided by google. [Check it..!](https://colab.research.google.com/notebooks/welcome.ipynb) "
   ]
  },
  {
   "cell_type": "code",
   "execution_count": null,
   "metadata": {},
   "outputs": [],
   "source": []
  }
 ],
 "metadata": {
  "kernelspec": {
   "display_name": "Python (MyProject)",
   "language": "python",
   "name": "myproject"
  },
  "language_info": {
   "codemirror_mode": {
    "name": "ipython",
    "version": 3
   },
   "file_extension": ".py",
   "mimetype": "text/x-python",
   "name": "python",
   "nbconvert_exporter": "python",
   "pygments_lexer": "ipython3",
   "version": "3.6.7"
  }
 },
 "nbformat": 4,
 "nbformat_minor": 2
}
