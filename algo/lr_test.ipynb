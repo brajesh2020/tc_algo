{
 "cells": [
  {
   "cell_type": "markdown",
   "metadata": {},
   "source": [
    "## Linear regression based Algorithm\n",
    "\n",
    "The most basic machine learning algorithm that can be implemented on the data is linear regression. \n",
    "The linear regression model returns an equation that determines the relationship between the independent variables and the dependent variable.\n",
    "\n",
    "The equation for linear regression can be written as:  \n",
    "                **Y = W1X1 + W2X2 + .....+ WnXn**\n",
    "\n",
    "Here, X1, X2,….Xn represent the independent variables while the coefficients W1, W2, …. Wn  represent the weights. \n",
    "\n",
    "We are using the date column to extract features like – day, month, year,  mon/fri etc. and then fit a linear regression model.\n"
   ]
  },
  {
   "cell_type": "code",
   "execution_count": null,
   "metadata": {},
   "outputs": [],
   "source": [
    "# import packages\n",
    "import pandas as pd\n",
    "import numpy as np\n",
    "\n",
    "# to plot within notebook\n",
    "import matplotlib.pyplot as plt\n",
    "%matplotlib inline\n",
    "\n",
    "# setting figure size\n",
    "from matplotlib.pylab import rcParams\n",
    "\n",
    "rcParams['figure.figsize'] = 20, 10\n",
    "\n",
    "# for normalizing data\n",
    "from sklearn.preprocessing import MinMaxScaler\n",
    "\n",
    "scaler = MinMaxScaler(feature_range=(0, 1))\n",
    "\n",
    "# read the file\n",
    "df = pd.read_csv('NSE-TATAGLOBAL.csv')\n",
    "\n",
    "# print the head\n",
    "df.head()\n"
   ]
  },
  {
   "cell_type": "code",
   "execution_count": null,
   "metadata": {},
   "outputs": [],
   "source": [
    "# setting index as date\n",
    "df['Date'] = pd.to_datetime(df.Date,format='%Y-%m-%d')\n",
    "df.index = df['Date']\n"
   ]
  },
  {
   "cell_type": "code",
   "execution_count": null,
   "metadata": {},
   "outputs": [],
   "source": [
    "# sorting\n",
    "data = df.sort_index(ascending=True, axis=0)"
   ]
  },
  {
   "cell_type": "code",
   "execution_count": null,
   "metadata": {},
   "outputs": [],
   "source": [
    "# creating a separate dataset\n",
    "new_data = pd.DataFrame(index=range(0, len(df)), columns=['Date', 'Close'])\n",
    "\n",
    "for i in range(0, len(data)):\n",
    "    new_data['Date'][i] = data['Date'][i]\n",
    "    new_data['Close'][i] = data['Close'][i]\n"
   ]
  },
  {
   "cell_type": "code",
   "execution_count": null,
   "metadata": {},
   "outputs": [],
   "source": [
    "total = len(new_data)\n",
    "cut_length = 1687\n",
    "remain = total - cut_length\n",
    "total, cut_length, remain\n"
   ]
  },
  {
   "cell_type": "code",
   "execution_count": null,
   "metadata": {},
   "outputs": [],
   "source": [
    "# attr = ['Year', 'Month', 'Week', 'Day', 'Dayofweek', 'Dayofyear',\n",
    "#             'Is_month_end', 'Is_month_start', 'Is_quarter_end', 'Is_quarter_start', 'Is_year_end', 'Is_year_start']\n",
    "\n",
    "year, month, week, day, day_of_week, day_of_year = [], [], [], [], [], []\n",
    "Is_month_end, Is_month_start, Is_quarter_end, Is_quarter_start, Is_year_end, Is_year_start = [], [], [], [], [], []\n",
    "date = new_data['Date'].values\n",
    "for ts in date:\n",
    "    dt_year, dt_week, dt_weekday = ts.isocalendar()\n",
    "    year.append(dt_year)\n",
    "    month.append(ts.month)\n",
    "    week.append(dt_week)\n",
    "    day.append(ts.day)\n",
    "    day_of_week.append(dt_weekday)\n",
    "    day_of_year.append(ts.timetuple().tm_yday)\n",
    "    Is_month_end.append(ts.is_month_end)\n",
    "    Is_month_start.append(ts.is_month_start)\n",
    "    Is_quarter_end.append(ts.is_quarter_end)\n",
    "    Is_quarter_start.append(ts.is_quarter_start)\n",
    "    Is_year_end.append(ts.is_year_end)\n",
    "    Is_year_start.append(ts.is_year_start)\n",
    "\n",
    "print(len(year), len(month), len(week), len(day), len(day_of_week), len(day_of_year), len(Is_month_end),\n",
    "      len(Is_month_start), len(Is_quarter_end), len(Is_quarter_start), len(Is_year_start), len(Is_year_end))\n"
   ]
  },
  {
   "cell_type": "code",
   "execution_count": null,
   "metadata": {},
   "outputs": [],
   "source": [
    "new_data['Year'] = year\n",
    "new_data['Month'] = month\n",
    "new_data['Week'] = week\n",
    "new_data['Day'] = day\n",
    "new_data['Dayofweek'] = day_of_week\n",
    "new_data['Dayofyear'] = day_of_year\n",
    "new_data['Is_month_end'] = Is_month_end\n",
    "new_data['Is_month_start'] = Is_month_start\n",
    "new_data['Is_quarter_end'] = Is_quarter_end\n",
    "new_data['Is_quarter_start'] = Is_quarter_start\n",
    "new_data['Is_year_end'] = Is_year_end\n",
    "new_data['Is_year_start'] = Is_year_start\n",
    "\n",
    "new_data.drop('Date', axis=1, inplace=True)  # elapsed will be the time stamp\n"
   ]
  },
  {
   "cell_type": "code",
   "execution_count": null,
   "metadata": {},
   "outputs": [],
   "source": [
    "# split into train and validation\n",
    "train = new_data[:cut_length]\n",
    "valid = new_data[cut_length:]\n",
    "\n",
    "new_data.shape, train.shape, valid.shape\n"
   ]
  },
  {
   "cell_type": "code",
   "execution_count": null,
   "metadata": {},
   "outputs": [],
   "source": [
    "x_train = train.drop('Close', axis=1)\n",
    "y_train = train['Close']\n",
    "x_valid = valid.drop('Close', axis=1)\n",
    "y_valid = valid['Close']\n"
   ]
  },
  {
   "cell_type": "code",
   "execution_count": null,
   "metadata": {},
   "outputs": [],
   "source": [
    "# y_train\n"
   ]
  },
  {
   "cell_type": "code",
   "execution_count": null,
   "metadata": {},
   "outputs": [],
   "source": [
    "# implement linear regression\n",
    "from sklearn.linear_model import LinearRegression\n",
    "\n",
    "model = LinearRegression()\n",
    "model.fit(x_train, y_train)\n"
   ]
  },
  {
   "cell_type": "code",
   "execution_count": null,
   "metadata": {},
   "outputs": [],
   "source": [
    "# make predictions and find the rmse\n",
    "preds = model.predict(x_valid)\n",
    "rms = np.sqrt(np.mean(np.power((np.array(y_valid) - np.array(preds)), 2)))\n",
    "rms\n"
   ]
  },
  {
   "cell_type": "code",
   "execution_count": null,
   "metadata": {},
   "outputs": [],
   "source": [
    "# plot\n",
    "valid['Predictions'] = 0\n",
    "valid['Predictions'] = preds\n",
    "\n",
    "valid.index = new_data[cut_length:].index\n",
    "train.index = new_data[:cut_length].index\n",
    "\n",
    "plt.plot(train['Close'])\n",
    "plt.plot(valid[['Close', 'Predictions']])\n"
   ]
  }
 ],
 "metadata": {
  "kernelspec": {
   "display_name": "Python (MyProject)",
   "language": "python",
   "name": "myproject"
  },
  "language_info": {
   "codemirror_mode": {
    "name": "ipython",
    "version": 3
   },
   "file_extension": ".py",
   "mimetype": "text/x-python",
   "name": "python",
   "nbconvert_exporter": "python",
   "pygments_lexer": "ipython3",
   "version": "3.6.7"
  }
 },
 "nbformat": 4,
 "nbformat_minor": 2
}
